{
 "cells": [
  {
   "cell_type": "code",
   "execution_count": 7,
   "id": "initial_id",
   "metadata": {
    "collapsed": true,
    "ExecuteTime": {
     "end_time": "2023-07-31T11:38:05.264334Z",
     "start_time": "2023-07-31T11:38:05.214322Z"
    }
   },
   "outputs": [],
   "source": [
    "import psycopg2\n",
    "\n",
    "try:\n",
    "    conn = psycopg2.connect(host='localhost', dbname='piscineds', user='sunpark', password='mysecretpassword')\n",
    "except:\n",
    "    print('Connection failed!')"
   ]
  },
  {
   "cell_type": "code",
   "execution_count": 8,
   "outputs": [],
   "source": [
    "cur = conn.cursor()\n",
    "cur.execute(\"select table_name from information_schema.tables where table_name like 'data_%_%' and table_schema = 'public';\")\n",
    "db_list = list(cur.fetchall())"
   ],
   "metadata": {
    "collapsed": false,
    "ExecuteTime": {
     "end_time": "2023-07-31T11:38:05.282189Z",
     "start_time": "2023-07-31T11:38:05.265349Z"
    }
   },
   "id": "7884588947ae12d6"
  },
  {
   "cell_type": "code",
   "execution_count": 9,
   "outputs": [
    {
     "name": "stdout",
     "output_type": "stream",
     "text": [
      "[('data_2022_dec',), ('data_2022_nov',), ('data_2022_oct',), ('data_2023_feb',), ('data_2023_jan',)]\n"
     ]
    }
   ],
   "source": [
    "conn.close()\n",
    "print(db_list)"
   ],
   "metadata": {
    "collapsed": false,
    "ExecuteTime": {
     "end_time": "2023-07-31T11:38:05.304631Z",
     "start_time": "2023-07-31T11:38:05.282551Z"
    }
   },
   "id": "4d136fe0e6512e49"
  },
  {
   "cell_type": "code",
   "execution_count": 9,
   "outputs": [],
   "source": [],
   "metadata": {
    "collapsed": false,
    "ExecuteTime": {
     "end_time": "2023-07-31T11:38:05.309691Z",
     "start_time": "2023-07-31T11:38:05.286139Z"
    }
   },
   "id": "89aa11bcbfc6fe52"
  }
 ],
 "metadata": {
  "kernelspec": {
   "display_name": "Python 3",
   "language": "python",
   "name": "python3"
  },
  "language_info": {
   "codemirror_mode": {
    "name": "ipython",
    "version": 2
   },
   "file_extension": ".py",
   "mimetype": "text/x-python",
   "name": "python",
   "nbconvert_exporter": "python",
   "pygments_lexer": "ipython2",
   "version": "2.7.6"
  }
 },
 "nbformat": 4,
 "nbformat_minor": 5
}
